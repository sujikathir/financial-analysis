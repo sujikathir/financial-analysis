{
 "cells": [
  {
   "cell_type": "code",
   "execution_count": null,
   "id": "65597993-9c97-455a-8cee-7a266f28c79a",
   "metadata": {},
   "outputs": [],
   "source": [
    "import boto3\n",
    "import json\n",
    "\n",
    "def test_infrastructure():\n",
    "    # Initialize clients\n",
    "    s3 = boto3.client('s3')\n",
    "    dynamodb = boto3.client('dynamodb')\n",
    "    lambda_client = boto3.client('lambda')\n",
    "    \n",
    "    # Test each component\n",
    "    print(\"Testing S3...\")\n",
    "    # Add test code\n",
    "    \n",
    "    print(\"\\nTesting DynamoDB...\")\n",
    "    # Add test code\n",
    "    \n",
    "    print(\"\\nTesting Lambda...\")\n",
    "    # Add test code\n",
    "\n",
    "test_infrastructure()"
   ]
  }
 ],
 "metadata": {
  "kernelspec": {
   "display_name": "Python 3 (ipykernel)",
   "language": "python",
   "name": "python3"
  },
  "language_info": {
   "codemirror_mode": {
    "name": "ipython",
    "version": 3
   },
   "file_extension": ".py",
   "mimetype": "text/x-python",
   "name": "python",
   "nbconvert_exporter": "python",
   "pygments_lexer": "ipython3",
   "version": "3.11.11"
  }
 },
 "nbformat": 4,
 "nbformat_minor": 5
}
