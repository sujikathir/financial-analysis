{
 "cells": [
  {
   "cell_type": "code",
   "execution_count": 1,
   "id": "bccc8f54-69fb-44c8-a3a8-4e7b16b5a3a7",
   "metadata": {},
   "outputs": [
    {
     "name": "stdout",
     "output_type": "stream",
     "text": [
      "Starting setup...\n",
      "Running setup for AWS Account: 387311887840\n"
     ]
    }
   ],
   "source": [
    "\n",
    "import os\n",
    "\n",
    "# Configuration\n",
    "CONFIG = {\n",
    "    'lambda_role_arn': 'arn:aws:iam::387311887840:role/financial-analysis-lambda-role',\n",
    "    'step_functions_role_arn': 'arn:aws:iam::387311887840:role/financial-analysis-step-functions-role',\n",
    "    'region': 'us-east-1'  # change to your region\n",
    "}\n",
    "\n",
    "# Run setup\n",
    "print(\"Starting setup...\")\n",
    "\n",
    "# First, test AWS credentials\n",
    "import boto3\n",
    "sts = boto3.client('sts')\n",
    "account_id = sts.get_caller_identity()['Account']\n",
    "print(f\"Running setup for AWS Account: {account_id}\")"
   ]
  },
  {
   "cell_type": "code",
   "execution_count": 5,
   "id": "c2a86948-5574-430c-88ac-96385eb3ea83",
   "metadata": {},
   "outputs": [],
   "source": [
    "# Import all setup classes\n",
    "from infrastructure.aws_setup import AWSResourceSetup\n",
    "from infrastructure.lambda_setup import LambdaSetup\n",
    "from infrastructure.api_gateway_setup import APIGatewaySetup\n",
    "from infrastructure.step_functions_setup import StepFunctionsSetup\n",
    "from src.utils.security import setup_security\n",
    "from src.data.dataset_preparation import DatasetPreparation\n",
    "from config import AWS_CONFIG, API_KEYS, MODEL_CONFIG"
   ]
  },
  {
   "cell_type": "code",
   "execution_count": null,
   "id": "9c8da49d-d8f2-4987-a5ac-a0adaa663b29",
   "metadata": {},
   "outputs": [],
   "source": [
    "# Initialize setup\n",
    "aws_setup = AWSResourceSetup()\n",
    "lambda_setup = LambdaSetup()\n",
    "api_setup = APIGatewaySetup()\n",
    "step_functions_setup = StepFunctionsSetup()"
   ]
  },
  {
   "cell_type": "code",
   "execution_count": null,
   "id": "97ee0ed3-9c2b-4add-bcc3-5e029d33dcb6",
   "metadata": {},
   "outputs": [],
   "source": [
    "# Prepare dataset\n",
    "data_prep = DatasetPreparation(f'financial-reports-raw-{account_id}')\n",
    "training_data = data_prep.prepare_training_data()\n",
    "print(f\"Prepared training dataset with {len(training_data)} records\")"
   ]
  },
  {
   "cell_type": "code",
   "execution_count": null,
   "id": "11a48da8-da37-44e9-a7cf-85b41bbfe80c",
   "metadata": {},
   "outputs": [],
   "source": [
    "# Setup core infrastructure\n",
    "print(\"Setting up security...\")\n",
    "security_config = setup_security()\n",
    "\n",
    "print(\"\\nSetting up S3 buckets...\")\n",
    "aws_setup.setup_s3()\n",
    "\n",
    "print(\"\\nSetting up DynamoDB tables...\")\n",
    "aws_setup.setup_dynamodb()\n",
    "\n",
    "print(\"\\nSetting up SQS queues...\")\n",
    "aws_setup.setup_sqs()\n",
    "\n",
    "print(\"\\nSetting up Lambda functions...\")\n",
    "lambda_setup.create_deployment_package()\n",
    "lambda_setup.deploy_lambda(lambda_role_arn, queue_url)\n",
    "\n",
    "print(\"\\nSetting up Step Functions workflow...\")\n",
    "step_functions_setup.setup_workflow(step_functions_role_arn)\n",
    "\n",
    "print(\"\\nSetting up API Gateway...\")\n",
    "api_id = api_setup.setup_api()\n",
    "\n",
    "print(f\"Setting up infrastructure in region: {AWS_CONFIG['region']}\")\n",
    "print(f\"Using bucket: {AWS_CONFIG['bucket_name']}\")\n",
    "\n",
    "print(\"\\nSetup complete!\")"
   ]
  }
 ],
 "metadata": {
  "kernelspec": {
   "display_name": "Python 3 (ipykernel)",
   "language": "python",
   "name": "python3"
  },
  "language_info": {
   "codemirror_mode": {
    "name": "ipython",
    "version": 3
   },
   "file_extension": ".py",
   "mimetype": "text/x-python",
   "name": "python",
   "nbconvert_exporter": "python",
   "pygments_lexer": "ipython3",
   "version": "3.11.11"
  }
 },
 "nbformat": 4,
 "nbformat_minor": 5
}
